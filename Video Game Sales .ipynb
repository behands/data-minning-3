{
 "cells": [
  {
   "cell_type": "markdown",
   "metadata": {},
   "source": [
    "# 数据挖掘互评作业三\n",
    "\n",
    "## Video Game Sales 电子游戏销售分析\n",
    "\n",
    "github:https://github.com/behands/data-minning-3"
   ]
  },
  {
   "cell_type": "code",
   "execution_count": 1,
   "metadata": {},
   "outputs": [],
   "source": [
    "## 导包\n",
    "import pandas as pd\n",
    "import statsmodels.api as sm"
   ]
  },
  {
   "cell_type": "code",
   "execution_count": 2,
   "metadata": {},
   "outputs": [],
   "source": [
    "filepath =\"vgsales.csv\" #使用的数据集文件地址\n",
    "df = pd.read_csv(filepath, header=0)"
   ]
  },
  {
   "cell_type": "code",
   "execution_count": 4,
   "metadata": {},
   "outputs": [],
   "source": [
    "def topk(str, data, k):     # 输出str属性总销量前k个数据\n",
    "    Data = data[[str, \"Global_Sales\"]]\n",
    "    Data.dropna(axis = 0) # 删除NaN值\n",
    "    datasum = Data.groupby(str, as_index=False).sum() # 重复行累加并和\n",
    "    datasum.sort_values(by=\"Global_Sales\", ascending=False, inplace=True)  # 按总销量降序排序\n",
    "    # print(datasum)\n",
    "    print(\"Global_Sales前%d的%s及其Global_Sales:\" %(k,str))\n",
    "    print(datasum.head(k))\n",
    "    print(\"\\n\")"
   ]
  },
  {
   "cell_type": "markdown",
   "metadata": {},
   "source": [
    "### 电子游戏市场分析\n",
    "- 受欢迎的游戏、类型、发布平台、发行人等；"
   ]
  },
  {
   "cell_type": "code",
   "execution_count": 5,
   "metadata": {},
   "outputs": [
    {
     "name": "stdout",
     "output_type": "stream",
     "text": [
      "Global_Sales前3的Name及其Global_Sales:\n",
      "                     Name  Global_Sales\n",
      "11007          Wii Sports         82.74\n",
      "3712   Grand Theft Auto V         55.92\n",
      "9327    Super Mario Bros.         45.31\n",
      "\n",
      "\n",
      "Global_Sales前3的Genre及其Global_Sales:\n",
      "      Genre  Global_Sales\n",
      "0    Action       1751.18\n",
      "10   Sports       1330.93\n",
      "8   Shooter       1037.37\n",
      "\n",
      "\n",
      "Global_Sales前3的Platform及其Global_Sales:\n",
      "   Platform  Global_Sales\n",
      "16      PS2       1255.64\n",
      "28     X360        979.96\n",
      "17      PS3        957.84\n",
      "\n",
      "\n",
      "Global_Sales前3的Publisher及其Global_Sales:\n",
      "           Publisher  Global_Sales\n",
      "359         Nintendo       1786.56\n",
      "138  Electronic Arts       1110.32\n",
      "21        Activision        727.46\n",
      "\n",
      "\n"
     ]
    }
   ],
   "source": [
    "topk(\"Name\", df, 3) # 按游戏名称\n",
    "topk(\"Genre\", df, 3)  # 按游戏类型\n",
    "topk(\"Platform\", df, 3)  # 按游戏平台\n",
    "topk(\"Publisher\", df, 3)  # 按游戏发行人"
   ]
  },
  {
   "cell_type": "markdown",
   "metadata": {},
   "source": [
    "### 预测每年电子游戏销售额"
   ]
  },
  {
   "cell_type": "code",
   "execution_count": 6,
   "metadata": {},
   "outputs": [
    {
     "name": "stdout",
     "output_type": "stream",
     "text": [
      "      Year  Global_Sales\n",
      "0   1980.0         11.38\n",
      "1   1981.0         35.77\n",
      "2   1982.0         28.86\n",
      "3   1983.0         16.79\n",
      "4   1984.0         50.36\n",
      "5   1985.0         53.94\n",
      "6   1986.0         37.07\n",
      "7   1987.0         21.74\n",
      "8   1988.0         47.22\n",
      "9   1989.0         73.45\n",
      "10  1990.0         49.39\n",
      "11  1991.0         32.23\n",
      "12  1992.0         76.16\n",
      "13  1993.0         45.98\n",
      "14  1994.0         79.17\n",
      "15  1995.0         88.11\n",
      "16  1996.0        199.15\n",
      "17  1997.0        200.98\n",
      "18  1998.0        256.47\n",
      "19  1999.0        251.27\n",
      "20  2000.0        201.56\n",
      "21  2001.0        331.47\n",
      "22  2002.0        395.52\n",
      "23  2003.0        357.85\n",
      "24  2004.0        419.31\n",
      "25  2005.0        459.94\n",
      "26  2006.0        521.04\n",
      "27  2007.0        611.13\n",
      "28  2008.0        678.90\n",
      "29  2009.0        667.59\n",
      "30  2010.0        600.45\n",
      "31  2011.0        515.99\n",
      "32  2012.0        363.54\n",
      "33  2013.0        368.11\n",
      "34  2014.0        337.05\n",
      "35  2015.0        264.44\n",
      "请输入预测年份：2020\n",
      "预测Global_Sales：246.6989083840597\n"
     ]
    }
   ],
   "source": [
    "df.loc[df['Name'] == \"Imagine: Makeup Artist\", \"Year\"] = 2009\n",
    "df.loc[df['Name'] == \"Phantasy Star Online 2 Episode 4: Deluxe Package\", \"Year\"] = 2016\n",
    "df.loc[df['Name'] == \"Brothers Conflict: Precious Baby\", \"Year\"] = 2016\n",
    "# 2016年数据并不完整，不纳入处理范围，根据https://www.kaggle.com/gregorut/videogamesales/discussion\n",
    "df = df[~df['Year'].isin([2016])]\n",
    "\n",
    "Data = df[[\"Year\", \"Global_Sales\"]]\n",
    "Data.dropna(axis=0)  # 删除NaN值\n",
    "datasum = Data.groupby(\"Year\", as_index=False).sum() # 重复行累加并和\n",
    "\n",
    "print(datasum)\n",
    "# 设置预测变量和结果变量，用Year预测Global_Sales\n",
    "X = datasum.Year  # 预测变量\n",
    "y = datasum.Global_Sales  # 结果变量\n",
    "# 执行最小二乘回归\n",
    "est = sm.OLS(y, X)\n",
    "# 模型拟合\n",
    "model = est.fit()\n",
    "# 预测\n",
    "year = int(input(\"请输入预测年份：\"))\n",
    "P = []\n",
    "P.append(year)\n",
    "P = pd.DataFrame(P)\n",
    "predictions = model.predict(P)\n",
    "print(\"预测Global_Sales：\", end='')\n",
    "print(predictions[0])"
   ]
  },
  {
   "cell_type": "code",
   "execution_count": null,
   "metadata": {},
   "outputs": [],
   "source": []
  }
 ],
 "metadata": {
  "kernelspec": {
   "display_name": "Python 3",
   "language": "python",
   "name": "python3"
  },
  "language_info": {
   "codemirror_mode": {
    "name": "ipython",
    "version": 3
   },
   "file_extension": ".py",
   "mimetype": "text/x-python",
   "name": "python",
   "nbconvert_exporter": "python",
   "pygments_lexer": "ipython3",
   "version": "3.7.0"
  }
 },
 "nbformat": 4,
 "nbformat_minor": 2
}
